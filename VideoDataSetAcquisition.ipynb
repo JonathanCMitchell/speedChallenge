{
 "cells": [
  {
   "cell_type": "code",
   "execution_count": 11,
   "metadata": {
    "collapsed": true
   },
   "outputs": [],
   "source": [
    "import cv2\n",
    "import numpy as np\n",
    "import pandas as pd\n",
    "import matplotlib.pyplot as plt\n",
    "import matplotlib.image as mpimg\n",
    "import os\n",
    "import json\n",
    "import csv\n",
    "%matplotlib inline"
   ]
  },
  {
   "cell_type": "code",
   "execution_count": 12,
   "metadata": {
    "collapsed": false
   },
   "outputs": [
    {
     "name": "stdout",
     "output_type": "stream",
     "text": [
      "8616\n"
     ]
    }
   ],
   "source": [
    "with open('./data/drive.json') as json_data:\n",
    "    ground_truth = json.load(json_data)\n",
    "    json_data.close()\n",
    "    print(len(ground_truth))"
   ]
  },
  {
   "cell_type": "code",
   "execution_count": 13,
   "metadata": {
    "collapsed": false
   },
   "outputs": [
    {
     "name": "stdout",
     "output_type": "stream",
     "text": [
      "time:  0.0046617984771728516\n"
     ]
    }
   ],
   "source": [
    "time = ground_truth[0][0]\n",
    "print('time: ', time)"
   ]
  },
  {
   "cell_type": "code",
   "execution_count": 9,
   "metadata": {
    "collapsed": false
   },
   "outputs": [],
   "source": [
    "from moviepy.editor import VideoFileClip\n",
    "\n",
    "clip1 = VideoFileClip('./data/drive.mp4')\n",
    "\n",
    "clip1.save_frame('time.jpg', t = time)\n",
    "\n",
    "# clip1.write_images_sequence('./data/real', fps = 11.7552)"
   ]
  },
  {
   "cell_type": "code",
   "execution_count": 14,
   "metadata": {
    "collapsed": true
   },
   "outputs": [],
   "source": [
    "from moviepy.editor import VideoFileClip\n",
    "clip1 = VideoFileClip('./data/drive.mp4')\n"
   ]
  },
  {
   "cell_type": "code",
   "execution_count": 15,
   "metadata": {
    "collapsed": false
   },
   "outputs": [
    {
     "name": "stdout",
     "output_type": "stream",
     "text": [
      "done!\n"
     ]
    }
   ],
   "source": [
    "with open('./data/driving.csv', 'w') as csvfile:\n",
    "    fieldnames = ['image_path', 'time', 'speed']\n",
    "    writer = csv.DictWriter(csvfile, fieldnames = fieldnames)\n",
    "    writer.writeheader()\n",
    "    \n",
    "    # Path to raw image folder\n",
    "    abs_path_to_IMG = os.path.join('./data/IMG/')\n",
    "\n",
    "#     vidcap = cv2.VideoCapture('./data/drive.mp4')\n",
    "    \n",
    "#     clip1 = VideoFileClip('./data/drive.mp4')\n",
    "\n",
    "    for idx, item in enumerate(ground_truth):\n",
    "        \n",
    "        \n",
    "        image_path = os.path.join('./data/IMG/', str(item[0]) + '.jpg')\n",
    "        clip1.save_frame(image_path, t = item[0])\n",
    "\n",
    "\n",
    "\n",
    "        # write row to driving.csv\n",
    "        writer.writerow({'image_path': image_path, \n",
    "                 'time':item[0],\n",
    "                 'speed':item[1],\n",
    "                })\n",
    "print('done!')"
   ]
  },
  {
   "cell_type": "code",
   "execution_count": null,
   "metadata": {
    "collapsed": true
   },
   "outputs": [],
   "source": []
  }
 ],
 "metadata": {
  "kernelspec": {
   "display_name": "Python [conda env:python3]",
   "language": "python",
   "name": "conda-env-python3-py"
  },
  "language_info": {
   "codemirror_mode": {
    "name": "ipython",
    "version": 3
   },
   "file_extension": ".py",
   "mimetype": "text/x-python",
   "name": "python",
   "nbconvert_exporter": "python",
   "pygments_lexer": "ipython3",
   "version": "3.5.2"
  }
 },
 "nbformat": 4,
 "nbformat_minor": 1
}
